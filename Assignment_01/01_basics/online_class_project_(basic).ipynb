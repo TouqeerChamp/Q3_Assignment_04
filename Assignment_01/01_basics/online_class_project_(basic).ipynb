{
  "nbformat": 4,
  "nbformat_minor": 0,
  "metadata": {
    "colab": {
      "provenance": [],
      "authorship_tag": "ABX9TyOklTajATxOE5yezj37ZuhT",
      "include_colab_link": true
    },
    "kernelspec": {
      "name": "python3",
      "display_name": "Python 3"
    },
    "language_info": {
      "name": "python"
    }
  },
  "cells": [
    {
      "cell_type": "markdown",
      "metadata": {
        "id": "view-in-github",
        "colab_type": "text"
      },
      "source": [
        "<a href=\"https://colab.research.google.com/github/TouqeerChamp/Q3_Assignment_04/blob/main/Assignment_01/01_basics/online_class_project_(basic).ipynb\" target=\"_parent\"><img src=\"https://colab.research.google.com/assets/colab-badge.svg\" alt=\"Open In Colab\"/></a>"
      ]
    },
    {
      "cell_type": "code",
      "execution_count": null,
      "metadata": {
        "colab": {
          "base_uri": "https://localhost:8080/"
        },
        "id": "qH_aVXj0ykh3",
        "outputId": "5a966b73-4cba-4064-b84f-a638459fd184"
      },
      "outputs": [
        {
          "output_type": "stream",
          "name": "stdout",
          "text": [
            "00 Joke Bot\n",
            "What do you want? joke\n",
            "Kiswa: Papa! Python kaunsa janwar hota he?\n",
            "Qirat: nahi sister woto coding wali sanp hoti he!\n",
            "Papa: Beta dono ek hi hn bas ek hiss karta he, dosra errors deta he.\n"
          ]
        }
      ],
      "source": [
        "print(\"00: Joke Bot\")\n",
        "\n",
        "prompt:str = \"What do you want? \"\n",
        "joke:str = \"Kiswa: Papa! Python kaunsa janwar hota he?\\nQirat: nahi sister woto coding wali sanp hoti he!\\nPapa: Beta dono ek hi hn bas ek hiss karta he, dosra errors deta he.\"\n",
        "sorry:str = \"Sorry I only tell jokes.\"\n",
        "\n",
        "def main():\n",
        "  user_input = input(prompt)\n",
        "  user_input = user_input.strip().lower()\n",
        "  if user_input == \"joke\":\n",
        "    print(joke)\n",
        "  else:\n",
        "    print(sorry)\n",
        "if __name__ == \"__main__\":\n",
        "  main()"
      ]
    },
    {
      "cell_type": "code",
      "source": [
        "print(\"01: Double it\")\n",
        "\n",
        "def main():\n",
        "  user_value = int(input(\"Enter a number:\"))\n",
        "  while user_value < 100:\n",
        "    user_value = user_value * 2\n",
        "    print(user_value)\n",
        "\n",
        "if __name__ == \"__main__\":\n",
        "  main()"
      ],
      "metadata": {
        "colab": {
          "base_uri": "https://localhost:8080/"
        },
        "id": "ebZhpuJjSG55",
        "outputId": "4db8cac8-1ff2-4de5-acdd-80555eabb7c7"
      },
      "execution_count": null,
      "outputs": [
        {
          "output_type": "stream",
          "name": "stdout",
          "text": [
            "Double it\n",
            "Enter a number:2\n",
            "4\n",
            "8\n",
            "16\n",
            "32\n",
            "64\n",
            "128\n"
          ]
        }
      ]
    },
    {
      "cell_type": "code",
      "source": [
        "print(\"02: lift of Countdown\")\n",
        "\n",
        "def main():\n",
        "  for i in range(10):\n",
        "    print(10 - i, end= \" \")\n",
        "  print(\"liftoff!\")\n",
        "\n",
        "if __name__ == \"__main__\":\n",
        "  main()"
      ],
      "metadata": {
        "colab": {
          "base_uri": "https://localhost:8080/"
        },
        "id": "cwdndNokWOqg",
        "outputId": "663d887c-9320-4fa2-f6c2-17407ca897f5"
      },
      "execution_count": null,
      "outputs": [
        {
          "output_type": "stream",
          "name": "stdout",
          "text": [
            " lift of Countdown\n",
            "10 9 8 7 6 5 4 3 2 1 liftoff!\n"
          ]
        }
      ]
    },
    {
      "cell_type": "code",
      "source": [
        "import random\n",
        "print(\" 03: Guess the Number\")\n",
        "\n",
        "def main():\n",
        "    secret_number: int = random.randint(1, 99)\n",
        "\n",
        "    print(\"I am thinking of a number between 1 and 99...\")\n",
        "\n",
        "    guess = int(input(\"Enter a guess: \"))\n",
        "\n",
        "    while guess != secret_number:\n",
        "        if guess < secret_number:\n",
        "            print(\"Your guess is too low\")\n",
        "        else:\n",
        "            print(\"Your guess is too high\")\n",
        "\n",
        "        print()\n",
        "        guess: int = int(input(\"Enter a new guess: \"))\n",
        "\n",
        "    print(f\"Congrats! The number was: {secret_number}\")\n",
        "\n",
        "if __name__ == '__main__':\n",
        "    main()\n"
      ],
      "metadata": {
        "colab": {
          "base_uri": "https://localhost:8080/"
        },
        "id": "KoNJiNJT24FN",
        "outputId": "3a4d54c2-3cba-4999-e0ca-48e141d4165e"
      },
      "execution_count": null,
      "outputs": [
        {
          "output_type": "stream",
          "name": "stdout",
          "text": [
            "I am thinking of a number between 1 and 99...\n",
            "Enter a guess: 50\n",
            "Your guess is too low\n",
            "\n",
            "Enter a new guess: 75\n",
            "Your guess is too high\n",
            "\n",
            "Enter a new guess: 63\n",
            "Your guess is too low\n",
            "\n",
            "Enter a new guess: 69\n",
            "Your guess is too low\n",
            "\n",
            "Enter a new guess: 72\n",
            "Your guess is too high\n",
            "\n",
            "Enter a new guess: 71\n",
            "Congrats! The number was: 71\n"
          ]
        }
      ]
    },
    {
      "cell_type": "code",
      "source": [
        "import random\n",
        "print(\" 04: Random Number\")\n",
        "\n",
        "def main():\n",
        "  for _ in range(10):\n",
        "    number = random.randint(1,100)\n",
        "    print(number)\n",
        "\n",
        "if __name__ == \"__main__\":\n",
        "  main()"
      ],
      "metadata": {
        "colab": {
          "base_uri": "https://localhost:8080/"
        },
        "id": "l2h4YLDAXqqJ",
        "outputId": "4abe3f71-4ad4-4578-ccaa-1786ac92c59f"
      },
      "execution_count": null,
      "outputs": [
        {
          "output_type": "stream",
          "name": "stdout",
          "text": [
            " 04: Random Number\n",
            "59\n",
            "6\n",
            "55\n",
            "42\n",
            "46\n",
            "65\n",
            "47\n",
            "35\n",
            "27\n",
            "86\n"
          ]
        }
      ]
    }
  ]
}