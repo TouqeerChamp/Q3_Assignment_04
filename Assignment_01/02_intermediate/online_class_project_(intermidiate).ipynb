{
  "nbformat": 4,
  "nbformat_minor": 0,
  "metadata": {
    "colab": {
      "provenance": [],
      "authorship_tag": "ABX9TyMzlQExpUOn94E4ph5Jj5Kj",
      "include_colab_link": true
    },
    "kernelspec": {
      "name": "python3",
      "display_name": "Python 3"
    },
    "language_info": {
      "name": "python"
    }
  },
  "cells": [
    {
      "cell_type": "markdown",
      "metadata": {
        "id": "view-in-github",
        "colab_type": "text"
      },
      "source": [
        "<a href=\"https://colab.research.google.com/github/TouqeerChamp/Q3_Assignment_04/blob/main/Assignment_01/02_intermediate/online_class_project_(intermidiate).ipynb\" target=\"_parent\"><img src=\"https://colab.research.google.com/assets/colab-badge.svg\" alt=\"Open In Colab\"/></a>"
      ]
    },
    {
      "cell_type": "code",
      "execution_count": null,
      "metadata": {
        "id": "0croVogK43mA",
        "colab": {
          "base_uri": "https://localhost:8080/"
        },
        "outputId": "ff4bc7e4-0d6a-4018-f357-18a5590bada8"
      },
      "outputs": [
        {
          "output_type": "stream",
          "name": "stdout",
          "text": [
            "Control Flow for Console\n",
            "Welcome to the High-Low Game!\n",
            "--------------------------------\n",
            "Round 1\n",
            "Your number is 48\n",
            "Do you think your number is higher or lower than the computer's?: lower\n",
            "Aww, that's incorrect. The computer's number was 32\n",
            "Your score is now 0\n",
            "\n",
            "Round 2\n",
            "Your number is 17\n",
            "Do you think your number is higher or lower than the computer's?: lower\n",
            "Aww, that's incorrect. The computer's number was 17\n",
            "Your score is now 0\n",
            "\n",
            "Round 3\n",
            "Your number is 13\n",
            "Do you think your number is higher or lower than the computer's?: lower\n",
            "You were right! The computer's number was 43\n",
            "Your score is now 1\n",
            "\n",
            "Round 4\n",
            "Your number is 38\n",
            "Do you think your number is higher or lower than the computer's?: lower\n",
            "You were right! The computer's number was 88\n",
            "Your score is now 2\n",
            "\n",
            "Round 5\n",
            "Your number is 100\n",
            "Do you think your number is higher or lower than the computer's?: lower\n",
            "Aww, that's incorrect. The computer's number was 52\n",
            "Your score is now 2\n",
            "\n",
            "Thanks for playing!\n"
          ]
        }
      ],
      "source": [
        "import random\n",
        "print(\"Control Flow for Console\")\n",
        "\n",
        "\n",
        "NUM_ROUNDS = 5\n",
        "\n",
        "def main():\n",
        "    print(\"Welcome to the High-Low Game!\")\n",
        "    print('--------------------------------')\n",
        "\n",
        "    your_score = 0\n",
        "\n",
        "    # Loops\n",
        "    for i in range(NUM_ROUNDS):\n",
        "        print(\"Round\", i + 1)\n",
        "\n",
        "        computer_num: int = random.randint(1, 100)\n",
        "        your_num: int = random.randint(1, 100)\n",
        "        print(\"Your number is\", your_num)\n",
        "\n",
        "        choice: str = input(\"Do you think your number is higher or lower than the computer's?: \")\n",
        "\n",
        "        higher_and_correct: bool = choice == \"higher\" and your_num > computer_num\n",
        "        lower_and_correct: bool = choice == \"lower\" and your_num < computer_num\n",
        "\n",
        "        if higher_and_correct or lower_and_correct:\n",
        "            print(\"You were right! The computer's number was\", computer_num)\n",
        "            your_score += 1\n",
        "        else:\n",
        "            print(\"Aww, that's incorrect. The computer's number was\", computer_num)\n",
        "\n",
        "        print(\"Your score is now\", your_score)\n",
        "        print()\n",
        "\n",
        "    print(\"Thanks for playing!\")\n",
        "\n",
        "if __name__ == \"__main__\":\n",
        "    main()\n"
      ]
    },
    {
      "cell_type": "code",
      "source": [
        "print(\"Planetary Weight Calculator\")\n",
        "\n",
        "def main():\n",
        "  print(\"Welcome to the Planetary Weight Calculator!\")\n",
        "  print(\"****************************************\")\n",
        "\n",
        "earth_weight: float = float(input(\"Enter your weight on Earth: \"))\n",
        "\n",
        "gravity_constant = {\n",
        "  \"Mercury\": 0.38,\n",
        "  \"Venus\": 0.91,\n",
        "  \"Mars\": 0.38,\n",
        "  \"Jupiter\": 2.34,\n",
        "  \"Saturn\": 0.93,\n",
        "  \"Uranus\": 0.92,\n",
        "  \"Neptune\": 1.19\n",
        "}\n",
        "print(\"\\n Select Planet\")\n",
        "for planet in gravity_constant:\n",
        "  print(f\"- {planet}\")\n",
        "\n",
        "planet_choice = input(\"Enter the name of the planet you want to calculate your weight on: \").title()\n",
        "\n",
        "if planet_choice in gravity_constant:\n",
        "  gravity = gravity_constant[planet_choice]\n",
        "  weight_on_planet = earth_weight * gravity\n",
        "  print(f\"Your weight on {planet_choice} is {weight_on_planet:.2f} kg.\")\n",
        "else:\n",
        "  print(\"Invalid planet choice. Please choose a planet from the list.\")\n",
        "\n",
        "if __name__ == \"__main__\":\n",
        "  main()"
      ],
      "metadata": {
        "colab": {
          "base_uri": "https://localhost:8080/"
        },
        "id": "x622lhFuVwyH",
        "outputId": "c9bd2464-ebf5-45ae-a499-5c8558f4b026"
      },
      "execution_count": null,
      "outputs": [
        {
          "output_type": "stream",
          "name": "stdout",
          "text": [
            "Planetary Weight Calculator\n",
            "Enter your weight on Earth: 23\n",
            "\n",
            " Select Planet\n",
            "- Mercury\n",
            "- Venus\n",
            "- Mars\n",
            "- Jupiter\n",
            "- Saturn\n",
            "- Uranus\n",
            "- Neptune\n",
            "Enter the name of the planet you want to calculate your weight on: mars\n",
            "Your weight on Mars is 8.74 kg.\n",
            "Welcome to the Planetary Weight Calculator!\n",
            "****************************************\n"
          ]
        }
      ]
    },
    {
      "cell_type": "code",
      "source": [
        "def access_element(lst, index):\n",
        "    try:\n",
        "        return lst[index]\n",
        "    except IndexError:\n",
        "        return \"Index out of range.\"\n",
        "\n",
        "def modify_element(lst, index, new_value):\n",
        "    try:\n",
        "        lst[index] = new_value\n",
        "        return lst\n",
        "    except IndexError:\n",
        "        return \"Index out of range.\"\n",
        "\n",
        "def slice_list(lst, start, end):\n",
        "    try:\n",
        "        return lst[start:end]\n",
        "    except IndexError:\n",
        "        return \"Invalid indices.\"\n",
        "\n",
        "def index_game():\n",
        "    lst = ['Apple', 'Mango', 'Banana', 'Orange', 'Grapes']  # Example list\n",
        "    print(\"Current list:\", lst)\n",
        "    print(\"Choose an operation: access, modify, slice, quit\")\n",
        "    operation = input(\"Enter operation: \")\n",
        "\n",
        "    if operation == \"access\":\n",
        "        index = int(input(\"Enter index to access: \"))\n",
        "        print(access_element(lst, index))\n",
        "    elif operation == \"modify\":\n",
        "        index = int(input(\"Enter index to modify: \"))\n",
        "        new_value = input(\"Enter new value: \")\n",
        "        print(modify_element(lst, index, new_value))\n",
        "    elif operation == \"slice\":\n",
        "        start = int(input(\"Enter start index: \"))\n",
        "        end = int(input(\"Enter end index: \"))\n",
        "        print(slice_list(lst, start, end))\n",
        "    elif operation == \"quit\":\n",
        "        print(\"Exiting the program.\")\n",
        "        return\n",
        "    else:\n",
        "        print(\"Invalid operation.\")\n",
        "\n",
        "if __name__ == \"__main__\":\n",
        "  index_game()\n",
        "\n"
      ],
      "metadata": {
        "colab": {
          "base_uri": "https://localhost:8080/"
        },
        "id": "2XWJpEFZYRnS",
        "outputId": "b78aa481-b2d0-432d-ceed-919079662cf0"
      },
      "execution_count": null,
      "outputs": [
        {
          "output_type": "stream",
          "name": "stdout",
          "text": [
            "Current list: ['Apple', 'Mango', 'Banana', 'Orange', 'Grapes']\n",
            "Choose an operation: access, modify, slice, quit\n",
            "Enter operation: access\n",
            "Enter index to access: 0\n",
            "Apple\n"
          ]
        }
      ]
    },
    {
      "cell_type": "code",
      "source": [],
      "metadata": {
        "id": "pnPp1AFaYWnd"
      },
      "execution_count": null,
      "outputs": []
    }
  ]
}