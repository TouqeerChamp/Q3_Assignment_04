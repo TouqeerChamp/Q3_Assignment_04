{
  "nbformat": 4,
  "nbformat_minor": 0,
  "metadata": {
    "colab": {
      "provenance": [],
      "authorship_tag": "ABX9TyNeSoevQTGFD/FmCCApJlpv",
      "include_colab_link": true
    },
    "kernelspec": {
      "name": "python3",
      "display_name": "Python 3"
    },
    "language_info": {
      "name": "python"
    }
  },
  "cells": [
    {
      "cell_type": "markdown",
      "metadata": {
        "id": "view-in-github",
        "colab_type": "text"
      },
      "source": [
        "<a href=\"https://colab.research.google.com/github/TouqeerChamp/Q3_Assignment_04/blob/main/Assignment_01_to_06/03_guess_the_number_game(user)/Project03.ipynb\" target=\"_parent\"><img src=\"https://colab.research.google.com/assets/colab-badge.svg\" alt=\"Open In Colab\"/></a>"
      ]
    },
    {
      "cell_type": "code",
      "execution_count": null,
      "metadata": {
        "id": "47yjAxdErPV2"
      },
      "outputs": [],
      "source": []
    },
    {
      "cell_type": "code",
      "source": [
        "# Guess The Number Game\n",
        "# Where the User generates a random number between 1 and 100,\n",
        "# and the computer has to guess the number within 10 attempts\n",
        "\n",
        "import random\n",
        "\n",
        "def computer_guess():\n",
        "    low = 1\n",
        "    high = 100\n",
        "    attempts = 0\n",
        "\n",
        "    print(\"Think of a number between 1 and 100, and I'll try to guess it!\")\n",
        "\n",
        "    while True:\n",
        "        guess = random.randint(low, high)\n",
        "        attempts += 1\n",
        "        print(\"I'm think\", guess)\n",
        "\n",
        "        feedback = input(\"Enter 'h' if my guess is too high, 'l' if too low, or 'c' if correct:\")\n",
        "\n",
        "        if feedback == \"c\":\n",
        "            print(\"Yay! I guessed your number correctly!\")\n",
        "            break # End the loop\n",
        "        elif feedback == \"h\":\n",
        "            high = guess - 1\n",
        "        elif feedback == \"l\":\n",
        "            low = guess + 1\n",
        "        else:\n",
        "            print(\"Invalid input. Please enter 'h', 'l', or 'c'.\")\n",
        "\n",
        "computer_guess()"
      ],
      "metadata": {
        "id": "Nv4kSOclrX7T"
      },
      "execution_count": null,
      "outputs": []
    }
  ]
}