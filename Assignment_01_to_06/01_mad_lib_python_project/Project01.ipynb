{
  "nbformat": 4,
  "nbformat_minor": 0,
  "metadata": {
    "colab": {
      "provenance": [],
      "authorship_tag": "ABX9TyNgJxJDpSC8E6qQ6+95Dg8/",
      "include_colab_link": true
    },
    "kernelspec": {
      "name": "python3",
      "display_name": "Python 3"
    },
    "language_info": {
      "name": "python"
    }
  },
  "cells": [
    {
      "cell_type": "markdown",
      "metadata": {
        "id": "view-in-github",
        "colab_type": "text"
      },
      "source": [
        "<a href=\"https://colab.research.google.com/github/TouqeerChamp/Q3_Assignment_04/blob/main/Assignment_01_to_06/01_mad_lib_python_project/Project01.ipynb\" target=\"_parent\"><img src=\"https://colab.research.google.com/assets/colab-badge.svg\" alt=\"Open In Colab\"/></a>"
      ]
    },
    {
      "cell_type": "code",
      "execution_count": null,
      "metadata": {
        "colab": {
          "base_uri": "https://localhost:8080/"
        },
        "id": "I182QhKWoiTe",
        "outputId": "9fb98316-791d-4383-8575-da457a959723"
      },
      "outputs": [
        {
          "output_type": "stream",
          "name": "stdout",
          "text": [
            "Welcome to Mad Libs! Let's get started!\n",
            "What is your name? Mohammad touqeer\n",
            "What is your favorite programming language? Python\n",
            "What is your favorite food? Biryani\n",
            "What is your favorite place? Park\n",
            "\n",
            " Welcome to Mad Libs! Let's get started!\n",
            "\n",
            " My name is Mohammad touqeer and I love to code in Python.\n",
            "\n",
            "I also love to eat Biryani and visit Park.\n",
            "\n",
            " And the answers is \"Mohammad touqeer\" and \"Python\" and \"Biryani\" and \"Park\".\n"
          ]
        }
      ],
      "source": [
        "# Mad Libs Python Project\n",
        "\n",
        "# My Introduction\n",
        "print(\"Welcome to Mad Libs! Let's get started!\")\n",
        "\n",
        "name = input(\"What is your name? \")\n",
        "programming_language = input(\"What is your favorite programming language? \")\n",
        "favorite_food = input(\"What is your favorite food? \")\n",
        "favorite_place = input(\"What is your favorite place? \")\n",
        "\n",
        "\n",
        "print(\"\\n Welcome to Mad Libs! Let's get started!\")\n",
        "print(f'\\n My name is {name} and I love to code in {programming_language}.')\n",
        "print(f'\\nI also love to eat {favorite_food} and visit {favorite_place}.')\n",
        "print(f'\\n And the answers is \"{name}\" and \"{programming_language}\" and \"{favorite_food}\" and \"{favorite_place}\".')"
      ]
    }
  ]
}