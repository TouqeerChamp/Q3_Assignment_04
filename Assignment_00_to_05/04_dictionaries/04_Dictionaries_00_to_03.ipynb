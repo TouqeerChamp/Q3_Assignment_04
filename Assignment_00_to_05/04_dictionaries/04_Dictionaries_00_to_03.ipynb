{
  "nbformat": 4,
  "nbformat_minor": 0,
  "metadata": {
    "colab": {
      "provenance": [],
      "authorship_tag": "ABX9TyOuGykqpbTtTbb/foG1rceX",
      "include_colab_link": true
    },
    "kernelspec": {
      "name": "python3",
      "display_name": "Python 3"
    },
    "language_info": {
      "name": "python"
    }
  },
  "cells": [
    {
      "cell_type": "markdown",
      "metadata": {
        "id": "view-in-github",
        "colab_type": "text"
      },
      "source": [
        "<a href=\"https://colab.research.google.com/github/TouqeerChamp/Q3_Assignment_04/blob/main/Assignment_00_to_05/04_dictionaries/04_Dictionaries_00_to_03.ipynb\" target=\"_parent\"><img src=\"https://colab.research.google.com/assets/colab-badge.svg\" alt=\"Open In Colab\"/></a>"
      ]
    },
    {
      "cell_type": "code",
      "execution_count": null,
      "metadata": {
        "colab": {
          "base_uri": "https://localhost:8080/"
        },
        "id": "dSSN2OCET5uj",
        "outputId": "8ffb518f-98eb-4aaf-e83e-3362e2a1031e"
      },
      "outputs": [
        {
          "output_type": "stream",
          "name": "stdout",
          "text": [
            "00: Count Numbers\n",
            "Enter a number or 'Exit' to Exit: 3\n",
            "{3: 1}\n",
            "Enter a number or 'Exit' to Exit: 8\n",
            "{3: 1, 8: 1}\n",
            "Enter a number or 'Exit' to Exit: 0\n",
            "{3: 1, 8: 1, 0: 1}\n",
            "Enter a number or 'Exit' to Exit: 0\n",
            "{3: 1, 8: 1, 0: 2}\n",
            "Enter a number or 'Exit' to Exit: 9\n",
            "{3: 1, 8: 1, 0: 2, 9: 1}\n",
            "Enter a number or 'Exit' to Exit: 3\n",
            "{3: 2, 8: 1, 0: 2, 9: 1}\n",
            "Enter a number or 'Exit' to Exit: \n",
            "Invalid Input\n",
            "Count of Numbers:\n",
            "3 appears: 2  times\n",
            "8 appears: 1  times\n",
            "0 appears: 2  times\n",
            "9 appears: 1  times\n"
          ]
        }
      ],
      "source": [
        "print(\"00: Count Numbers\")\n",
        "\n",
        "def count_numbers():\n",
        "  count_dict = {}\n",
        "\n",
        "  while True:\n",
        "    user_input = input(\"Enter a number or 'Exit' to Exit: \")\n",
        "    if user_input.lower() == 'Exit':\n",
        "      break\n",
        "    if user_input.isdigit():\n",
        "      user_input = int(user_input)\n",
        "      count_dict[user_input] = count_dict.get(user_input, 0) + 1\n",
        "      print(count_dict)\n",
        "    else:\n",
        "      print(\"Invalid Input\")\n",
        "      return count_dict\n",
        "\n",
        "def display_count(count_dict):\n",
        "  print(\"Count of Numbers:\")\n",
        "  for key, value in count_dict.items():\n",
        "    print(f\"{key} appears: {value}  times\")\n",
        "\n",
        "if __name__ == '__main__':\n",
        "  count_dict = count_numbers()\n",
        "  display_count(count_dict)"
      ]
    },
    {
      "cell_type": "code",
      "source": [
        "print(\"01: Phonebook\")\n",
        "\n",
        "def read_phone_numbers():\n",
        "    phonebook = {}\n",
        "\n",
        "    while True:\n",
        "        name = input(\"Name: \")\n",
        "        if name == \"\":\n",
        "            break\n",
        "        number = input(\"Number: \")\n",
        "        phonebook[name] = number\n",
        "    return phonebook\n",
        "\n",
        "def print_phonebook(phonebook):\n",
        "    for name in phonebook:\n",
        "        print(f\"{name} -> {phonebook[name]}\")\n",
        "\n",
        "def lookup_numbers(phonebook):\n",
        "    while True:\n",
        "        name = input(\"Enter name to lookup: \")\n",
        "        if name == \"\":\n",
        "            break\n",
        "        if name not in phonebook:\n",
        "            print(f\"{name} is not in the phonebook\")\n",
        "        else:\n",
        "            print(phonebook[name]\n",
        "                  )\n",
        "\n",
        "def main():\n",
        "    phonebook = read_phone_numbers()\n",
        "    print_phonebook(phonebook)\n",
        "    lookup_numbers(phonebook)\n",
        "\n",
        "if __name__ == '__main__':\n",
        "    main()"
      ],
      "metadata": {
        "colab": {
          "base_uri": "https://localhost:8080/"
        },
        "id": "6aJ_REL9UMPI",
        "outputId": "2aab7421-07ff-4897-9d6d-5720a526e7b7"
      },
      "execution_count": null,
      "outputs": [
        {
          "name": "stdout",
          "output_type": "stream",
          "text": [
            "01: Phonebook\n",
            "Name: Touqeer\n",
            "Number: 03322233445\n",
            "Name: Ali\n",
            "Number: 03211122334\n",
            "Name: Rehan\n",
            "Number: 03444455554\n",
            "Name: \n",
            "Touqeer -> 03322233445\n",
            "Ali -> 03211122334\n",
            "Rehan -> 03444455554\n",
            "Enter name to lookup: Rehan\n",
            "03444455554\n",
            "Enter name to lookup: Touqeer\n",
            "03322233445\n",
            "Enter name to lookup: Ali\n",
            "03211122334\n",
            "Enter name to lookup: Kashif\n",
            "Kashif is not in the phonebook\n",
            "Enter name to lookup: \n"
          ]
        }
      ]
    },
    {
      "cell_type": "code",
      "source": [
        "print(\"02: Pop up Shop\")\n",
        "\n",
        "def main():\n",
        "    fruits = {'apple': 1.5,\n",
        "              'durian': 50,\n",
        "              'jackfruit': 80,\n",
        "              'kiwi': 1,\n",
        "              'rambutan': 1.5,\n",
        "              'mango': 5}\n",
        "    total_cost = 0\n",
        "    for fruit_name in fruits:\n",
        "        price = fruits[fruit_name]\n",
        "        amount_bought = int(input(f\"How many {fruit_name} do you want to buy?: \"))\n",
        "        total_cost += (price * amount_bought)\n",
        "    print(f\"Your total is ${total_cost}\")\n",
        "\n",
        "if __name__ == '__main__':\n",
        "    main()"
      ],
      "metadata": {
        "colab": {
          "base_uri": "https://localhost:8080/"
        },
        "id": "jIJzoGYcURxF",
        "outputId": "72b6b046-d8dc-487c-86d8-494c6f237aae"
      },
      "execution_count": null,
      "outputs": [
        {
          "output_type": "stream",
          "name": "stdout",
          "text": [
            "02: Pop up Shop\n",
            "How many apple do you want to buy?: 6\n",
            "How many durian do you want to buy?: 4\n",
            "How many jackfruit do you want to buy?: 2\n",
            "How many kiwi do you want to buy?: 12\n",
            "How many rambutan do you want to buy?: 4\n",
            "How many mango do you want to buy?: 8\n",
            "Your total is $427.0\n"
          ]
        }
      ]
    },
    {
      "cell_type": "code",
      "source": [
        "import hashlib\n",
        "print(\"03: Powerfull Passwords\")\n",
        "\n",
        "def hash_password(password):\n",
        "  return hashlib.sha256(password.encode()).hexdigest()\n",
        "\n",
        "store_logins = {\n",
        "    \"abc@gmail.com\": hash_password(\"abc123\"),\n",
        "    \"def@gmail.com\": hash_password(\"def456\"),\n",
        "}\n",
        "def login(email,password):\n",
        "  if email in store_logins and store_logins[email] == hash_password(password):\n",
        "    print(\"Login Successful\")\n",
        "  else:\n",
        "    print(\"Login Failed: Invalid Email or Password\")\n",
        "\n",
        "if __name__ == '__main__':\n",
        "  email = input(\"Enter Email: \")\n",
        "  password = input(\"Enter Password: \")\n",
        "  login(email,password)"
      ],
      "metadata": {
        "colab": {
          "base_uri": "https://localhost:8080/"
        },
        "id": "QWufosGaUY8v",
        "outputId": "bc17be51-f945-4ecc-8eb5-928df15d0040"
      },
      "execution_count": null,
      "outputs": [
        {
          "output_type": "stream",
          "name": "stdout",
          "text": [
            "03: Powerfull Passwords\n",
            "Enter Email: aaa\n",
            "Enter Password: aaa\n",
            "Login Failed: Invalid Email or Password\n"
          ]
        }
      ]
    },
    {
      "cell_type": "code",
      "source": [],
      "metadata": {
        "id": "3SwqwrgHw8AF"
      },
      "execution_count": null,
      "outputs": []
    }
  ]
}