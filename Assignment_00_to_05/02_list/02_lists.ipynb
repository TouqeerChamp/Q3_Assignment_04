{
  "nbformat": 4,
  "nbformat_minor": 0,
  "metadata": {
    "colab": {
      "provenance": [],
      "authorship_tag": "ABX9TyOjHCdZF9gjH/DXFc6oepRY",
      "include_colab_link": true
    },
    "kernelspec": {
      "name": "python3",
      "display_name": "Python 3"
    },
    "language_info": {
      "name": "python"
    }
  },
  "cells": [
    {
      "cell_type": "markdown",
      "metadata": {
        "id": "view-in-github",
        "colab_type": "text"
      },
      "source": [
        "<a href=\"https://colab.research.google.com/github/TouqeerChamp/Q3_Assignment_04/blob/main/Assignment_00_to_05/02_list/02_lists.ipynb\" target=\"_parent\"><img src=\"https://colab.research.google.com/assets/colab-badge.svg\" alt=\"Open In Colab\"/></a>"
      ]
    },
    {
      "cell_type": "code",
      "execution_count": 1,
      "metadata": {
        "id": "UCCgJSn1Sjh5",
        "colab": {
          "base_uri": "https://localhost:8080/"
        },
        "outputId": "3da2f344-6c1c-4fdf-a596-c4e925a924e6"
      },
      "outputs": [
        {
          "output_type": "stream",
          "name": "stdout",
          "text": [
            "01: Add Many numbers\n",
            "15\n"
          ]
        }
      ],
      "source": [
        "print(\"01: Add Many numbers\")\n",
        "\n",
        "def add_number(numbers)-> int:\n",
        "  num:int = 0\n",
        "  for i in numbers:\n",
        "    num += i\n",
        "  return num\n",
        "\n",
        "def main():\n",
        "  numbers:list[int] = [1,2,3,4,5]\n",
        "  sum = add_number(numbers)\n",
        "  print(sum)\n",
        "\n",
        "if __name__ == \"__main__\":\n",
        "  main()\n"
      ]
    },
    {
      "cell_type": "code",
      "source": [
        "print(\"02: Double List\")\n",
        "\n",
        "def main():\n",
        "  numbers: list[int] = [1,2,3,4]\n",
        "  for i in range(len(numbers)):\n",
        "    index = numbers[i]\n",
        "    numbers[i] = index * 2\n",
        "  print(numbers)\n",
        "\n",
        "if __name__ == \"__main__\":\n",
        "  main()"
      ],
      "metadata": {
        "colab": {
          "base_uri": "https://localhost:8080/"
        },
        "id": "d_warad0vWXo",
        "outputId": "95b02aff-1a18-4878-e23d-d2138bca7390"
      },
      "execution_count": 2,
      "outputs": [
        {
          "output_type": "stream",
          "name": "stdout",
          "text": [
            "02: Double List\n",
            "[2, 4, 6, 8]\n"
          ]
        }
      ]
    },
    {
      "cell_type": "code",
      "source": [
        "print(\"03: Erase Canvas\")"
      ],
      "metadata": {
        "colab": {
          "base_uri": "https://localhost:8080/"
        },
        "id": "xbOimPw_xQUE",
        "outputId": "83c5fa4b-1af1-45c6-c264-218aef325ddc"
      },
      "execution_count": 9,
      "outputs": [
        {
          "output_type": "stream",
          "name": "stdout",
          "text": [
            "03: Erase Canvas\n"
          ]
        }
      ]
    },
    {
      "cell_type": "code",
      "source": [
        "print(\"04: Flowing with data structures\")\n",
        "\n",
        "def add_three_copies(list,data):\n",
        "  for i in range(3):\n",
        "    list.append(data)\n",
        "\n",
        "def main():\n",
        "  message = input(\"Enter a message to copy: \")\n",
        "  list = []\n",
        "  print(\"Before list: \", list)\n",
        "  add_three_copies(list,message)\n",
        "  print(\"After list: \", list)\n",
        "\n",
        "if __name__ == \"__main__\":\n",
        "  main()"
      ],
      "metadata": {
        "colab": {
          "base_uri": "https://localhost:8080/"
        },
        "id": "qi0LEs46yN6s",
        "outputId": "c65b8873-6914-4d43-a118-2e8851cc4d8e"
      },
      "execution_count": 6,
      "outputs": [
        {
          "output_type": "stream",
          "name": "stdout",
          "text": [
            "04: Flowing with data structures\n",
            "Enter a message to copy: Hello mere dost\n",
            "Before list:  []\n",
            "After list:  ['Hello mere dost', 'Hello mere dost', 'Hello mere dost']\n"
          ]
        }
      ]
    },
    {
      "cell_type": "code",
      "source": [
        "print(\"05: Get First Elements\")\n",
        "\n",
        "def get_first_element(list):\n",
        "  print(list[0])\n",
        "\n",
        "def get_list():\n",
        "  list = []\n",
        "  elem:str = input(\"Enter an element to add to the list: \")\n",
        "  while elem != \"\":\n",
        "    list.append(elem)\n",
        "    elem = input(\"Enter an element to add to the list: \")\n",
        "  return list\n",
        "\n",
        "def main():\n",
        "  list = get_list()\n",
        "  get_first_element(list)\n",
        "\n",
        "if __name__ == \"__main__\":\n",
        "  main()\n"
      ],
      "metadata": {
        "colab": {
          "base_uri": "https://localhost:8080/"
        },
        "id": "xa2ZbDbVzr1Z",
        "outputId": "4e49b294-d6c3-45ba-c519-378ced8665f4"
      },
      "execution_count": 8,
      "outputs": [
        {
          "output_type": "stream",
          "name": "stdout",
          "text": [
            "05: Get First Elements\n",
            "Enter an element to add to the list: Touqeer\n",
            "Enter an element to add to the list: Zeeshan \n",
            "Enter an element to add to the list: Kashan\n",
            "Enter an element to add to the list: Hamza\n",
            "Enter an element to add to the list: \n",
            "Touqeer\n"
          ]
        }
      ]
    },
    {
      "cell_type": "code",
      "source": [
        "print(\"06: Get Last Elements\")\n",
        "\n",
        "def get_last_element(list):\n",
        "  print(list[-1])\n",
        "\n",
        "def get_list():\n",
        "  list = []\n",
        "  elem:str = input(\"Enter an element to add to the list: \")\n",
        "  while elem != \"\":\n",
        "    list.append(elem)\n",
        "    elem = input(\"Enter an element to add to the list: \")\n",
        "  return list\n",
        "\n",
        "def main():\n",
        "  list = get_list()\n",
        "  get_last_element(list)\n",
        "\n",
        "if __name__ == \"__main__\":\n",
        "  main()\n"
      ],
      "metadata": {
        "colab": {
          "base_uri": "https://localhost:8080/"
        },
        "id": "2wuCDcN01bSh",
        "outputId": "d24628ad-5443-4a96-f66d-02fd377fd45f"
      },
      "execution_count": 3,
      "outputs": [
        {
          "output_type": "stream",
          "name": "stdout",
          "text": [
            "06: Get Last Elements\n",
            "Enter an element to add to the list: a\n",
            "Enter an element to add to the list: d\n",
            "Enter an element to add to the list: g\n",
            "Enter an element to add to the list: \n",
            "g\n"
          ]
        }
      ]
    },
    {
      "cell_type": "code",
      "source": [
        "print(\"07: Get List\")\n",
        "\n",
        "def get_list():\n",
        "  list = []\n",
        "  elem:str = input(\"Enter an element to add to the list: \")\n",
        "  while elem != \"\":\n",
        "    list.append(elem)\n",
        "    elem = input(\"Enter an element to add to the list: \")\n",
        "  return list\n",
        "\n",
        "if __name__ == \"__main__\":\n",
        "  main = get_list()\n",
        "  print(f\"Here is the list: {main}\")"
      ],
      "metadata": {
        "colab": {
          "base_uri": "https://localhost:8080/"
        },
        "id": "WLj86Wra21Ah",
        "outputId": "f0e8398c-b605-4c1a-fa5b-044171663e55"
      },
      "execution_count": 6,
      "outputs": [
        {
          "output_type": "stream",
          "name": "stdout",
          "text": [
            "07: Get List\n",
            "Enter an element to add to the list: Qirat \n",
            "Enter an element to add to the list: Kiswah \n",
            "Enter an element to add to the list: Rukhsar\n",
            "Enter an element to add to the list: Touqeer\n",
            "Enter an element to add to the list: \n",
            "Here is the list: ['Qirat ', 'Kiswah ', 'Rukhsar', 'Touqeer']\n"
          ]
        }
      ]
    },
    {
      "cell_type": "code",
      "source": [
        "print(\"08: Shorten\")\n",
        "\n",
        "max_length = 3\n",
        "def shorten():\n",
        "  while len(list) > max_length:\n",
        "    last_element = list.pop()\n",
        "    print(f\"Removed {last_element}\")\n",
        "\n",
        "def get_list():\n",
        "  list = []\n",
        "  elem:str = input(\"Enter an element to add to the list: \")\n",
        "  while elem != \"\":\n",
        "    list.append(elem)\n",
        "    elem = input(\"Enter an element to add to the list: \")\n",
        "  return list\n",
        "\n",
        "if __name__ == \"__main__\":\n",
        "  list = get_list()\n",
        "  shorten()\n",
        "  print(f\"Here is the list: {list}\")"
      ],
      "metadata": {
        "colab": {
          "base_uri": "https://localhost:8080/"
        },
        "id": "iS_NvHIN5Bbz",
        "outputId": "c12c80a7-3412-4135-9d99-f13c248b1206"
      },
      "execution_count": 7,
      "outputs": [
        {
          "output_type": "stream",
          "name": "stdout",
          "text": [
            "08: Shorten\n",
            "Enter an element to add to the list: Qirat\n",
            "Enter an element to add to the list: Kiswah \n",
            "Enter an element to add to the list: Rukhsar\n",
            "Enter an element to add to the list: Touqeer\n",
            "Enter an element to add to the list: \n",
            "Removed Touqeer\n",
            "Here is the list: ['Qirat', 'Kiswah ', 'Rukhsar']\n"
          ]
        }
      ]
    }
  ]
}