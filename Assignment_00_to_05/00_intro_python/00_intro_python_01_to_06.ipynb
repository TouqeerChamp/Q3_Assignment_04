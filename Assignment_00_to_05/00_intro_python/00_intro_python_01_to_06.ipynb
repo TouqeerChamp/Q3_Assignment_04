{
  "nbformat": 4,
  "nbformat_minor": 0,
  "metadata": {
    "colab": {
      "provenance": [],
      "authorship_tag": "ABX9TyP7I7noA0dLKZP0rY8JZyxC",
      "include_colab_link": true
    },
    "kernelspec": {
      "name": "python3",
      "display_name": "Python 3"
    },
    "language_info": {
      "name": "python"
    }
  },
  "cells": [
    {
      "cell_type": "markdown",
      "metadata": {
        "id": "view-in-github",
        "colab_type": "text"
      },
      "source": [
        "<a href=\"https://colab.research.google.com/github/TouqeerChamp/Q3_Assignment_04/blob/main/Assignment_00_to_05/00_intro_python/00_intro_python_01_to_06.ipynb\" target=\"_parent\"><img src=\"https://colab.research.google.com/assets/colab-badge.svg\" alt=\"Open In Colab\"/></a>"
      ]
    },
    {
      "cell_type": "code",
      "execution_count": null,
      "metadata": {
        "colab": {
          "base_uri": "https://localhost:8080/"
        },
        "id": "x7kqBoDg07RA",
        "outputId": "449828ad-1d28-4e2b-d93b-c83e821339ea"
      },
      "outputs": [
        {
          "output_type": "stream",
          "name": "stdout",
          "text": [
            "This program Adds Two Numbers\n",
            " Enter First Number: 5\n",
            " Enter Second Number: 4\n",
            "The Total Sum is 9\n"
          ]
        }
      ],
      "source": [
        "print(\"01: Adds Two Numbers\")\n",
        "\n",
        "def add():\n",
        "  first_number = int(input(\" Enter First Number: \"))\n",
        "  second_number = int(input(\" Enter Second Number: \"))\n",
        "  total_number = first_number + second_number\n",
        "  print(f\"The Total Sum is {total_number}\")\n",
        "\n",
        "if __name__ == \"__main__\":\n",
        "  add()"
      ]
    },
    {
      "cell_type": "code",
      "source": [
        "print(\"02: Agreement Bot\")\n",
        "\n",
        "def bot():\n",
        "  animal = str(input(\"What their favorite animal is : \"))\n",
        "  print(f\"My favorite animal is also {animal}\")\n",
        "\n",
        "if __name__ == \"__main__\":\n",
        "  bot()"
      ],
      "metadata": {
        "colab": {
          "base_uri": "https://localhost:8080/"
        },
        "id": "CUKmsmgW4UAC",
        "outputId": "6a5d6a5e-2106-413c-a4fd-27a298755925"
      },
      "execution_count": null,
      "outputs": [
        {
          "output_type": "stream",
          "name": "stdout",
          "text": [
            "02 Agreement Bot\n",
            "What their favorite animal is : cat\n",
            "My favorite animal is also cat\n"
          ]
        }
      ]
    },
    {
      "cell_type": "code",
      "source": [
        "print(\"03: Fahrenheit to Celsius\")\n",
        "\n",
        "def fahrenheit_to_celsius():\n",
        "    fahrenheit_celsius = float(input(\"Enter the temperature in Fahrenheit: \"))\n",
        "    degree_celsius = (fahrenheit_celsius - 32) * 5.0/9.0\n",
        "    print(f\"{fahrenheit_celsius} degrees Fahrenheit is equal to {degree_celsius} degrees Celsius\")\n",
        "\n",
        "if __name__ == '__main__':\n",
        "    fahrenheit_to_celsius()\n"
      ],
      "metadata": {
        "colab": {
          "base_uri": "https://localhost:8080/"
        },
        "id": "Njwb16MwjNFM",
        "outputId": "82599f42-1664-49c8-d736-0aab0c941494"
      },
      "execution_count": null,
      "outputs": [
        {
          "output_type": "stream",
          "name": "stdout",
          "text": [
            "03 Fahrenheit to Celsius\n",
            "Enter the temperature in Fahrenheit: 90\n",
            "90.0 degrees Fahrenheit is equal to 32.22222222222222 degrees Celsius\n"
          ]
        }
      ]
    },
    {
      "cell_type": "code",
      "source": [
        "print(\"04: How old are they\")\n",
        "\n",
        "def add_ages():\n",
        "    anton : int = 21\n",
        "    beth : int = 6 + anton\n",
        "    chen : int = 20 + beth\n",
        "    drew  : int= chen + anton\n",
        "    ethan : int = chen\n",
        "\n",
        "    print(f\"Anton is {anton}\")\n",
        "    print(f\"Beth is {beth}\")\n",
        "    print(f\"Chen is {chen}\")\n",
        "    print(f\"Drew is {drew}\")\n",
        "    print(f\"Ethan is {ethan}\")\n",
        "\n",
        "if __name__ == '__main__':\n",
        "    add_ages()"
      ],
      "metadata": {
        "colab": {
          "base_uri": "https://localhost:8080/"
        },
        "id": "HNucjxL0gRQo",
        "outputId": "707106a2-f8a0-408c-c81f-60dd5e77938d"
      },
      "execution_count": null,
      "outputs": [
        {
          "output_type": "stream",
          "name": "stdout",
          "text": [
            "04: How old are they\n",
            "Anton is 21\n",
            "Beth is 27\n",
            "Chen is 47\n",
            "Drew is 68\n",
            "Ethan is 47\n"
          ]
        }
      ]
    },
    {
      "cell_type": "code",
      "source": [
        "print(\"05: Triangle Perimeter\")\n",
        "\n",
        "def triangle():\n",
        "  print(\"Sum of triangle sides\")\n",
        "  side1:float = float(input(\"Enter the first side of the triangle: \"))\n",
        "  side2:float = float(input(\"Enter the second side of the triangle: \"))\n",
        "  side3:float = float(input(\"Enter the third side of the triangle: \"))\n",
        "  total:float = side1 + side2 + side3\n",
        "  print(f\"The perimeter of triange is {total}\")\n",
        "\n",
        "if __name__ == '__main__':\n",
        "  triangle()"
      ],
      "metadata": {
        "colab": {
          "base_uri": "https://localhost:8080/"
        },
        "id": "Qg-mlMhDjx-M",
        "outputId": "afcff103-0f27-4f09-add6-517fa24157d2"
      },
      "execution_count": null,
      "outputs": [
        {
          "output_type": "stream",
          "name": "stdout",
          "text": [
            "05: Triangle Perimeter\n",
            "Sum of triangle sides\n",
            "Enter the first side of the triangle: 2\n",
            "Enter the second side of the triangle: 3\n",
            "Enter the third side of the triangle: 1\n",
            "The perimeter of triange is 6.0\n"
          ]
        }
      ]
    },
    {
      "cell_type": "code",
      "source": [
        "print(\"06: Square Number\")\n",
        "\n",
        "def square_number():\n",
        "    print(\"Square of given number\")\n",
        "    number:int = int(input(\"Enter a number: \"))\n",
        "    print(f\"The square of {number} is {number ** 2}\")\n",
        "\n",
        "if __name__ == '__main__':\n",
        "    square_number()"
      ],
      "metadata": {
        "colab": {
          "base_uri": "https://localhost:8080/"
        },
        "id": "RrbZIBnKmDYm",
        "outputId": "e042e5ea-10fc-4170-e571-8afdcb4fafb6"
      },
      "execution_count": null,
      "outputs": [
        {
          "output_type": "stream",
          "name": "stdout",
          "text": [
            "06: Square Number\n",
            "Square of given number\n",
            "Enter a number: 4\n",
            "The square of 4 is 16\n"
          ]
        }
      ]
    },
    {
      "cell_type": "code",
      "source": [],
      "metadata": {
        "id": "W0xetOxCnJ8Z"
      },
      "execution_count": null,
      "outputs": []
    }
  ]
}