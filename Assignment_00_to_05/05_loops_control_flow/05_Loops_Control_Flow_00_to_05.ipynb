{
  "nbformat": 4,
  "nbformat_minor": 0,
  "metadata": {
    "colab": {
      "provenance": [],
      "authorship_tag": "ABX9TyPXBynHcDB3Su7x7llDPtfG",
      "include_colab_link": true
    },
    "kernelspec": {
      "name": "python3",
      "display_name": "Python 3"
    },
    "language_info": {
      "name": "python"
    }
  },
  "cells": [
    {
      "cell_type": "markdown",
      "metadata": {
        "id": "view-in-github",
        "colab_type": "text"
      },
      "source": [
        "<a href=\"https://colab.research.google.com/github/TouqeerChamp/Q3_Assignment_04/blob/main/Assignment_00_to_05/05_loops_control_flow/05_Loops_Control_Flow_00_to_05.ipynb\" target=\"_parent\"><img src=\"https://colab.research.google.com/assets/colab-badge.svg\" alt=\"Open In Colab\"/></a>"
      ]
    },
    {
      "cell_type": "code",
      "execution_count": null,
      "metadata": {
        "colab": {
          "base_uri": "https://localhost:8080/"
        },
        "id": "aKfWeA1CxfYV",
        "outputId": "873fc538-c905-46b7-d9f4-cca8a8e6cbc5"
      },
      "outputs": [
        {
          "output_type": "stream",
          "name": "stdout",
          "text": [
            "00: Guess My Numbers\n",
            "The Number Between 1 and 100 ......\n",
            "Enter a Guess Number: 50\n",
            "Your guess is to high\n",
            "Enter a Guess Number: 25\n",
            "Your guess is to low\n",
            "Enter a Guess Number: 40\n",
            "Your guess is to high\n",
            "Enter a Guess Number: 30\n",
            "Your guess is to low\n",
            "Enter a Guess Number: 35\n",
            "Your guess is to high\n",
            "Enter a Guess Number: 33\n",
            "Your guess is to high\n",
            "Enter a Guess Number: 31\n",
            "Congratulations! the number was 31\n"
          ]
        }
      ],
      "source": [
        "import random\n",
        "print(\"00: Guess My Numbers\")\n",
        "\n",
        "def main():\n",
        "  secret_number = random.randint(1, 100)\n",
        "  print(\"The Number Between 1 and 100 ......\")\n",
        "\n",
        "  guess = int(input(\"Enter a Guess Number: \"))\n",
        "\n",
        "  while guess != secret_number:\n",
        "    if guess < secret_number:\n",
        "      print(\"Your guess is to low\")\n",
        "    else:\n",
        "      print(\"Your guess is to high\")\n",
        "    guess = int(input(\"Enter a Guess Number: \"))\n",
        "\n",
        "  print(f\"Congratulations! the number was {secret_number}\")\n",
        "\n",
        "if __name__ == \"__main__\":\n",
        "  main()"
      ]
    },
    {
      "cell_type": "code",
      "source": [
        "print(\"01: Fibonacci\")\n",
        "\n",
        "max_team_value : int = 10000\n",
        "\n",
        "def main():\n",
        "    current_term, next_term = 0, 1\n",
        "    while current_term <= max_team_value:\n",
        "        print(current_term, end=\" \")\n",
        "        term_after_next = current_term + next_term\n",
        "        current_term = next_term\n",
        "        next_term = term_after_next\n",
        "\n",
        "if __name__ == '__main__':\n",
        "    main()"
      ],
      "metadata": {
        "colab": {
          "base_uri": "https://localhost:8080/"
        },
        "id": "TvTg7Xt117g2",
        "outputId": "525f37c5-1692-4458-e251-9dbfbf0cd6ab"
      },
      "execution_count": null,
      "outputs": [
        {
          "output_type": "stream",
          "name": "stdout",
          "text": [
            "01: Fibonacci\n",
            "0 1 1 2 3 5 8 13 21 34 55 89 144 233 377 610 987 1597 2584 4181 6765 "
          ]
        }
      ]
    },
    {
      "cell_type": "code",
      "source": [
        "print(\"02: Print Events\")\n",
        "\n",
        "def main():\n",
        "    for number in range(20):\n",
        "      print(number * 2, end = \" \")\n",
        "\n",
        "if __name__ == '__main__':\n",
        "    main()"
      ],
      "metadata": {
        "colab": {
          "base_uri": "https://localhost:8080/"
        },
        "id": "zXgq7Vp92JFP",
        "outputId": "2fed8d55-6d74-4dc6-d7bb-bdcd5bb36556"
      },
      "execution_count": null,
      "outputs": [
        {
          "output_type": "stream",
          "name": "stdout",
          "text": [
            "02: Print Events\n",
            "0 2 4 6 8 10 12 14 16 18 20 22 24 26 28 30 32 34 36 38 "
          ]
        }
      ]
    },
    {
      "cell_type": "code",
      "source": [
        "print(\"03: Wholesome Machine \\n\")\n",
        "print(\"**************************\")\n",
        "\n",
        "current_affermation = \"I am capable of doing anything I put my mind to. \"\n",
        "\n",
        "def main():\n",
        "  print(\"Welcome to the wholesome machine\")\n",
        "  print(\"**************************\")\n",
        "  while True:\n",
        "    user_input = input(f\"Please type the following affermation:\\n{current_affermation}\")\n",
        "    if user_input == current_affermation:\n",
        "      print(\"Thats right! \")\n",
        "      break\n",
        "    else:\n",
        "      print(\"\\n That is not correct affermation. Please try again!\")\n",
        "\n",
        "if __name__ == '__main__':\n",
        "    main()"
      ],
      "metadata": {
        "colab": {
          "base_uri": "https://localhost:8080/"
        },
        "id": "o5uG3OjM2Ql6",
        "outputId": "979f1d66-c4d7-45a6-ef8d-2a610849cf26"
      },
      "execution_count": null,
      "outputs": [
        {
          "output_type": "stream",
          "name": "stdout",
          "text": [
            "03: Wholesome Machine \n",
            "\n",
            "**************************\n",
            "Welcome to the wholesome machine\n",
            "**************************\n",
            "Please type the following affermation:\n",
            "I am capable of doing anything I put my mind to. I am capable of doing anything I put my mind to. \n",
            "Thats right! \n"
          ]
        }
      ]
    },
    {
      "cell_type": "code",
      "source": [
        "print(\"04: Liftoff\")\n",
        "\n",
        "def main():\n",
        "    for countdown in range(10, 0, -1):\n",
        "        print(countdown, end=\" \")\n",
        "    print(\" 🚀 Liftoff\")\n",
        "\n",
        "if __name__ == '__main__':\n",
        "    main()"
      ],
      "metadata": {
        "colab": {
          "base_uri": "https://localhost:8080/"
        },
        "id": "dZ3rUdLl2bBc",
        "outputId": "ddad29ff-5fd9-4c9a-d94e-e274ecdac071"
      },
      "execution_count": null,
      "outputs": [
        {
          "output_type": "stream",
          "name": "stdout",
          "text": [
            "04: Liftoff\n",
            "10 9 8 7 6 5 4 3 2 1  🚀 Liftoff\n"
          ]
        }
      ]
    },
    {
      "cell_type": "code",
      "source": [
        "print(\"05: Double it\")\n",
        "\n",
        "def main():\n",
        "  user_input = int(input(\"Enter a Number: \"))\n",
        "  while user_input < 100:\n",
        "    user_input = user_input * 2\n",
        "    print(user_input, end=\" \")\n",
        "\n",
        "if __name__ == \"__main__\":\n",
        "  main()"
      ],
      "metadata": {
        "colab": {
          "base_uri": "https://localhost:8080/"
        },
        "id": "JEIxGT4Q2erf",
        "outputId": "09bcb66d-28b4-4149-ed49-03a1bfa399e3"
      },
      "execution_count": null,
      "outputs": [
        {
          "output_type": "stream",
          "name": "stdout",
          "text": [
            "05: Double it\n",
            "Enter a Number: 2\n",
            "4 8 16 32 64 128 "
          ]
        }
      ]
    }
  ]
}