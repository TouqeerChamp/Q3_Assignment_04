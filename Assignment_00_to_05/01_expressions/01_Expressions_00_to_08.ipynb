{
  "nbformat": 4,
  "nbformat_minor": 0,
  "metadata": {
    "colab": {
      "provenance": [],
      "authorship_tag": "ABX9TyPfRKdhUbYwAcAdLtJEW9l0",
      "include_colab_link": true
    },
    "kernelspec": {
      "name": "python3",
      "display_name": "Python 3"
    },
    "language_info": {
      "name": "python"
    }
  },
  "cells": [
    {
      "cell_type": "markdown",
      "metadata": {
        "id": "view-in-github",
        "colab_type": "text"
      },
      "source": [
        "<a href=\"https://colab.research.google.com/github/TouqeerChamp/Q3_Assignment_04/blob/main/Assignment_00_to_05/01_expressions/01_Expressions_00_to_08.ipynb\" target=\"_parent\"><img src=\"https://colab.research.google.com/assets/colab-badge.svg\" alt=\"Open In Colab\"/></a>"
      ]
    },
    {
      "cell_type": "code",
      "execution_count": null,
      "metadata": {
        "colab": {
          "base_uri": "https://localhost:8080/"
        },
        "id": "K-LmT0TDDZOd",
        "outputId": "a65efc56-7f94-460e-cdb7-2636e3aa1cda"
      },
      "outputs": [
        {
          "output_type": "stream",
          "name": "stdout",
          "text": [
            "01: dicesimulator\n",
            "Dice1 in main() as: 10\n",
            "Total Dice: 5\n",
            "Total Dice: 8\n",
            "Total Dice: 9\n",
            "Dice1 in main() is: 10\n"
          ]
        }
      ],
      "source": [
        "import random\n",
        "print(\"01: dicesimulator\")\n",
        "\n",
        "def roll_dice():\n",
        "  dice1:int = random.randint(1,6)\n",
        "  dice2:int = random.randint(1,6)\n",
        "  total:int = dice1 + dice2\n",
        "  print(f\"Total Dice: {total}\")\n",
        "\n",
        "def main():\n",
        "  dice1:int = 10\n",
        "  print(f\"Dice1 in main() as: {dice1}\")\n",
        "  roll_dice()\n",
        "  roll_dice()\n",
        "  roll_dice()\n",
        "  print(f\"Dice1 in main() is: {dice1}\")\n",
        "\n",
        "if __name__ == \"__main__\":\n",
        "  main()"
      ]
    },
    {
      "cell_type": "code",
      "source": [
        "print(\"02: e=mc2\")\n",
        "\n",
        "def energy():\n",
        "  c:int = 299792458\n",
        "  m:int = float(input(\"Enter Kilos of mass: \"))\n",
        "  print(\"e = m*c^2\")\n",
        "  print(f\"Mass = {m} kg\")\n",
        "  print(f\"C = {c} m/s\")\n",
        "  print(f\"e = {m * c ** 2} jules\")\n",
        "\n",
        "if __name__ == \"__main__\":\n",
        "  energy()"
      ],
      "metadata": {
        "colab": {
          "base_uri": "https://localhost:8080/"
        },
        "id": "KNvSVE7nHGUz",
        "outputId": "7dca1f0c-6124-41f2-d50b-6b5b566a7c26"
      },
      "execution_count": null,
      "outputs": [
        {
          "output_type": "stream",
          "name": "stdout",
          "text": [
            "02: e=mc2\n",
            "Enter Kilos of mass: 450\n",
            "e = m*c^2\n",
            "Mass = 450.0 kg\n",
            "C = 299792458 m/s\n",
            "e = 4.0443983043156795e+19 jules\n"
          ]
        }
      ]
    },
    {
      "cell_type": "code",
      "source": [
        "print(\"03: Feet to Inches\")\n",
        "\n",
        "inch:int = 12\n",
        "\n",
        "def foot():\n",
        "  feet:int = int(input(\"Enter Feet: \"))\n",
        "  print(f\"There are {inch * feet} inches in {feet} feet.\")\n",
        "\n",
        "if __name__ == \"__main__\":\n",
        "  foot()"
      ],
      "metadata": {
        "colab": {
          "base_uri": "https://localhost:8080/"
        },
        "id": "6BQCDloKJYmr",
        "outputId": "801c4959-da80-4c73-a8db-3161b4ca4ad9"
      },
      "execution_count": null,
      "outputs": [
        {
          "output_type": "stream",
          "name": "stdout",
          "text": [
            "03: Feet to Inches\n",
            "Enter Feet: 22\n",
            "There are 264 inches in 22 feet.\n"
          ]
        }
      ]
    },
    {
      "cell_type": "code",
      "source": [
        "print(\"04: Pythagorean Theorem\")\n",
        "\n",
        "def triangle():\n",
        "  ab:float = float(input(\"Enter Length of AB: \"))\n",
        "  ac:float = float(input(\"Enter Length of AC: \"))\n",
        "  bc:float = (ab**2 + ac**2)**0.5\n",
        "  print(f\"The Length of BC is: {bc}\")\n",
        "\n",
        "if __name__ == \"__main__\":\n",
        "  triangle()"
      ],
      "metadata": {
        "colab": {
          "base_uri": "https://localhost:8080/"
        },
        "id": "HU25O_YIKVYY",
        "outputId": "3624f266-3ec9-4376-f1ba-ed8d0c3c4bde"
      },
      "execution_count": null,
      "outputs": [
        {
          "output_type": "stream",
          "name": "stdout",
          "text": [
            "04: Pythagorean Theorem\n",
            "Enter Length of AB: 4\n",
            "Enter Length of AC: 6.8\n",
            "The Length of BC is: 7.889233169326408\n"
          ]
        }
      ]
    },
    {
      "cell_type": "code",
      "source": [
        "print(\"05: Reminder Division\")\n",
        "\n",
        "def reminder():\n",
        "  num1:int = int(input(\"Enter First Number:\"))\n",
        "  num2:int = int(input(\"Enter Second Number:\"))\n",
        "  print(f\"The Reminder of {num1} divided by {num2} is: {num1 % num2}\")\n",
        "\n",
        "if __name__ == \"__main__\":\n",
        "  reminder()"
      ],
      "metadata": {
        "colab": {
          "base_uri": "https://localhost:8080/"
        },
        "id": "izGeVtJrLsPN",
        "outputId": "80759ef0-b865-4a0f-abd3-d63a8ee4ebe9"
      },
      "execution_count": null,
      "outputs": [
        {
          "output_type": "stream",
          "name": "stdout",
          "text": [
            "05: Reminder Division\n",
            "Enter First Number:45\n",
            "Enter Second Number:2\n",
            "The Reminder of 45 divided by 2 is: 1\n"
          ]
        }
      ]
    },
    {
      "cell_type": "code",
      "source": [
        "import random\n",
        "print(\"06: Roll Dice\")\n",
        "\n",
        "def dice():\n",
        "  dice1:int = random.randint(1,6)\n",
        "  dice2:int = random.randint(1,6)\n",
        "  total:int = dice1 + dice2\n",
        "  print(f\"First Dice: {dice1}, Second Dice: {dice2}, Total Number Dice: {total}\")\n",
        "\n",
        "if __name__ == \"__main__\":\n",
        "  dice()"
      ],
      "metadata": {
        "colab": {
          "base_uri": "https://localhost:8080/"
        },
        "id": "JfBI1KZ2NAeA",
        "outputId": "b49e87ef-0fbf-419c-9eb5-efa7431beaf7"
      },
      "execution_count": null,
      "outputs": [
        {
          "output_type": "stream",
          "name": "stdout",
          "text": [
            "06: Roll Dice\n",
            "First Dice: 6, Second Dice: 1, Total Number Dice: 7\n"
          ]
        }
      ]
    },
    {
      "cell_type": "code",
      "source": [
        "print(\"07: seconds in Year\")\n",
        "\n",
        "days_per_year:int = 365\n",
        "hours_per_day:int = 24\n",
        "minutes_per_hour:int = 60\n",
        "seconds_per_minute:int = 60\n",
        "\n",
        "def seconds():\n",
        "  print(f\"There are {days_per_year * hours_per_day * minutes_per_hour * seconds_per_minute} seconds in a year.\")\n",
        "\n",
        "if __name__ == \"__main__\":\n",
        "  seconds()"
      ],
      "metadata": {
        "colab": {
          "base_uri": "https://localhost:8080/"
        },
        "id": "uhi85PG4O10O",
        "outputId": "f5185bfb-9ab4-4759-a1c8-87e2d52f3e84"
      },
      "execution_count": null,
      "outputs": [
        {
          "output_type": "stream",
          "name": "stdout",
          "text": [
            "07: seconds in Year\n",
            "There are 31536000 seconds in a year.\n"
          ]
        }
      ]
    },
    {
      "cell_type": "code",
      "source": [
        "print(\"08: Tiny Mad Lib\")\n",
        "\n",
        "def madlib():\n",
        "  noun:str = input(\"Enter a Noun: \")\n",
        "  verb:str = input(\"Enter a Verb: \")\n",
        "  adjective:str = input(\"Enter an Adjective: \")\n",
        "  print(f\"Do you {verb} your {adjective} {noun}?\")\n",
        "\n",
        "if __name__ == \"__main__\":\n",
        "  madlib()"
      ],
      "metadata": {
        "colab": {
          "base_uri": "https://localhost:8080/"
        },
        "id": "ycJjw3aVQSHe",
        "outputId": "8b2dbd69-fadc-465b-9b0c-b5f6e654bb07"
      },
      "execution_count": null,
      "outputs": [
        {
          "output_type": "stream",
          "name": "stdout",
          "text": [
            "08: Tiny Mad Lib\n",
            "Enter a Noun: \n",
            "Enter a Verb: \n",
            "Enter an Adjective: \n",
            "Do you  your  ?\n"
          ]
        }
      ]
    }
  ]
}