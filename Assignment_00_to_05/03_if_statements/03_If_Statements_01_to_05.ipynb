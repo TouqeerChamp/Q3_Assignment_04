{
  "nbformat": 4,
  "nbformat_minor": 0,
  "metadata": {
    "colab": {
      "provenance": [],
      "authorship_tag": "ABX9TyNnNQ7EmfZ9e38kuuowoNKd",
      "include_colab_link": true
    },
    "kernelspec": {
      "name": "python3",
      "display_name": "Python 3"
    },
    "language_info": {
      "name": "python"
    }
  },
  "cells": [
    {
      "cell_type": "markdown",
      "metadata": {
        "id": "view-in-github",
        "colab_type": "text"
      },
      "source": [
        "<a href=\"https://colab.research.google.com/github/TouqeerChamp/Q3_Assignment_04/blob/main/Assignment_00_to_05/03_if_statements/03_If_Statements_01_to_05.ipynb\" target=\"_parent\"><img src=\"https://colab.research.google.com/assets/colab-badge.svg\" alt=\"Open In Colab\"/></a>"
      ]
    },
    {
      "cell_type": "code",
      "execution_count": 9,
      "metadata": {
        "colab": {
          "base_uri": "https://localhost:8080/"
        },
        "id": "pok1PfpFDbSz",
        "outputId": "e81be6dd-1934-4c6a-e234-a0b9c2bcad44"
      },
      "outputs": [
        {
          "output_type": "stream",
          "name": "stdout",
          "text": [
            "01: Print Events\n",
            "0\n",
            "2\n",
            "4\n",
            "6\n",
            "8\n",
            "10\n",
            "12\n",
            "14\n",
            "16\n",
            "18\n",
            "20\n",
            "22\n",
            "24\n",
            "26\n",
            "28\n",
            "30\n",
            "32\n",
            "34\n",
            "36\n",
            "38\n"
          ]
        }
      ],
      "source": [
        "print(\"01: Print Events\")\n",
        "\n",
        "def even_numbers():\n",
        "    for i in range(20):\n",
        "      print(i * 2)\n",
        "\n",
        "if __name__ == \"__main__\":\n",
        "    even_numbers()\n"
      ]
    },
    {
      "cell_type": "code",
      "source": [
        "print(\"02: International Voting Age\")\n",
        "\n",
        "Peturksbouipo_age:int = 16\n",
        "Stanlau_age:int = 25\n",
        "Mayengua_age:int = 48\n",
        "\n",
        "def main():\n",
        "  age:int = int(input(\"How old are you: \"))\n",
        "  if age >= Peturksbouipo_age:\n",
        "    print(f\"Your age is {age} You are eligible to vote in the Peturksbouipo\")\n",
        "  else:\n",
        "    print(\"You are not eligible to vote in the Peturksbouipo\")\n",
        "\n",
        "  if age >= Stanlau_age:\n",
        "    print(f\"Your age is {age} You are eligible to vote in the Stanlau\")\n",
        "  else:\n",
        "    print(\"You are not eligible to vote in the Stanlau\")\n",
        "\n",
        "  if age >= Mayengua_age:\n",
        "    print(f\"Your age is {age} You are eligible to vote in the Mayengua\")\n",
        "  else:\n",
        "    print(\"You are not eligible to vote in the Mayengua\")\n",
        "\n",
        "if __name__ == \"__main__\":\n",
        "  main()"
      ],
      "metadata": {
        "colab": {
          "base_uri": "https://localhost:8080/"
        },
        "id": "h60lYKShD7S0",
        "outputId": "82792ed1-4576-46a8-eae5-88863b41db9b"
      },
      "execution_count": 18,
      "outputs": [
        {
          "output_type": "stream",
          "name": "stdout",
          "text": [
            "02: International Voting Age\n",
            "How old are you: 45\n",
            "Your age is 45 You are eligible to vote in the Peturksbouipo\n",
            "Your age is 45 You are eligible to vote in the Stanlau\n",
            "You are not eligible to vote in the Mayengua\n"
          ]
        }
      ]
    },
    {
      "cell_type": "code",
      "source": [
        "print(\"03: Leap Year\")\n",
        "\n",
        "def leap_year():\n",
        "  year:int = int(input(\"Enter a year: \"))\n",
        "  if year % 4 == 0:\n",
        "    print(f\"{year} is a leap year\")\n",
        "  else:\n",
        "    print(f\"{year} is not a leap year\")\n",
        "\n",
        "if __name__ == \"__main__\":\n",
        "  leap_year()"
      ],
      "metadata": {
        "colab": {
          "base_uri": "https://localhost:8080/"
        },
        "id": "1hdg6hCLD7JV",
        "outputId": "b16dd964-7ee1-402e-e13f-a286603902e9"
      },
      "execution_count": 24,
      "outputs": [
        {
          "output_type": "stream",
          "name": "stdout",
          "text": [
            "Leap Year\n",
            "Enter a year: 2035\n",
            "2035 is not a leap year\n"
          ]
        }
      ]
    },
    {
      "cell_type": "code",
      "source": [
        "print(\"04: Tall Enough to Ride\")\n",
        "\n",
        "minimum_height:int = 50\n",
        "\n",
        "def tall_enough_to_ride():\n",
        "  height = float(input(\"Enter your height in cm: \"))\n",
        "  if height >= minimum_height:\n",
        "    print(\"You are tall enough to ride\")\n",
        "  else:\n",
        "    print(\"You are not tall enough to ride. May be next year.\")\n",
        "\n",
        "if __name__ == \"__main__\":\n",
        "  tall_enough_to_ride()\n"
      ],
      "metadata": {
        "colab": {
          "base_uri": "https://localhost:8080/"
        },
        "id": "oyl6F9YnD6-m",
        "outputId": "18344487-9e1a-4909-c520-5a02ed61e848"
      },
      "execution_count": 26,
      "outputs": [
        {
          "output_type": "stream",
          "name": "stdout",
          "text": [
            "04: Tall Enough to Ride\n",
            "Enter your height in cm: 50\n",
            "You are tall enough to ride\n"
          ]
        }
      ]
    },
    {
      "cell_type": "code",
      "source": [
        "import random\n",
        "print(\"05: Random Numbers\")\n",
        "\n",
        "n_numbers:int = 10\n",
        "min_number:int = 1\n",
        "max_number:int = 100\n",
        "\n",
        "def random_numbers():\n",
        "  for i in range(n_numbers):\n",
        "    print(random.randint(min_number, max_number))\n",
        "\n",
        "if __name__ == \"__main__\":\n",
        "  random_numbers()"
      ],
      "metadata": {
        "colab": {
          "base_uri": "https://localhost:8080/"
        },
        "id": "7YKcvhBhD6sc",
        "outputId": "392476d1-5919-4635-ed72-c587663f8a7b"
      },
      "execution_count": 28,
      "outputs": [
        {
          "output_type": "stream",
          "name": "stdout",
          "text": [
            "05: Random Numbers\n",
            "59\n",
            "12\n",
            "45\n",
            "50\n",
            "28\n",
            "70\n",
            "34\n",
            "15\n",
            "45\n",
            "22\n"
          ]
        }
      ]
    }
  ]
}